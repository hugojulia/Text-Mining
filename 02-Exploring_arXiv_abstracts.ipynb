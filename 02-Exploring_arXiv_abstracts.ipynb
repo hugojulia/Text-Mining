{
 "cells": [
  {
   "cell_type": "markdown",
   "metadata": {},
   "source": [
    "## Sample of arXiv abstracts by subjects\n",
    "\n",
    "The following dataset contains abstracts comming from [arXiv](https://arxiv.org/) papers in different topics.\n",
    "The data is contained in a text file named *arxiv_articles.csv*. Each line has the following information (separated by \"|\"):\n",
    "\n",
    "```\n",
    "id | title | authors | arxiv_primary_category | summary | published | updated\n",
    "```\n",
    "\n",
    "The articles where taken from the following categories:\n",
    "\n",
    "```\n",
    "\"math.*\", \"cs.*\", \"econ.*\", \"astro-ph.*\", \"physics.*\", \"q-bio.*\", \"q-fin.*\", \"stat.*\"\n",
    "```\n",
    "\n",
    "For more details, check the [full list](http://arxitics.com/help/categories) of categories at http://arxitics.com/help/categories"
   ]
  },
  {
   "cell_type": "code",
   "execution_count": 2,
   "metadata": {},
   "outputs": [],
   "source": [
    "import matplotlib.pyplot as plt\n",
    "import pandas as pd"
   ]
  },
  {
   "cell_type": "code",
   "execution_count": 3,
   "metadata": {},
   "outputs": [],
   "source": [
    "data = pd.read_csv(\"./arxiv_articles.csv\", sep=\"|\")"
   ]
  },
  {
   "cell_type": "code",
   "execution_count": 4,
   "metadata": {},
   "outputs": [
    {
     "data": {
      "text/html": [
       "<div>\n",
       "<style scoped>\n",
       "    .dataframe tbody tr th:only-of-type {\n",
       "        vertical-align: middle;\n",
       "    }\n",
       "\n",
       "    .dataframe tbody tr th {\n",
       "        vertical-align: top;\n",
       "    }\n",
       "\n",
       "    .dataframe thead th {\n",
       "        text-align: right;\n",
       "    }\n",
       "</style>\n",
       "<table border=\"1\" class=\"dataframe\">\n",
       "  <thead>\n",
       "    <tr style=\"text-align: right;\">\n",
       "      <th></th>\n",
       "      <th>id</th>\n",
       "      <th>title</th>\n",
       "      <th>authors</th>\n",
       "      <th>arxiv_primary_category</th>\n",
       "      <th>summary</th>\n",
       "      <th>published</th>\n",
       "      <th>updated</th>\n",
       "    </tr>\n",
       "  </thead>\n",
       "  <tbody>\n",
       "    <tr>\n",
       "      <td>0</td>\n",
       "      <td>http://arxiv.org/abs/2001.05867v1</td>\n",
       "      <td>$σ$-Lacunary actions of Polish groups</td>\n",
       "      <td>Jan Grebik</td>\n",
       "      <td>math.LO</td>\n",
       "      <td>We show that every essentially countable orbit...</td>\n",
       "      <td>2020-01-16T15:09:02Z</td>\n",
       "      <td>2020-01-16T15:09:02Z</td>\n",
       "    </tr>\n",
       "    <tr>\n",
       "      <td>1</td>\n",
       "      <td>http://arxiv.org/abs/1303.6933v1</td>\n",
       "      <td>Hans Grauert (1930-2011)</td>\n",
       "      <td>Alan Huckleberry</td>\n",
       "      <td>math.HO</td>\n",
       "      <td>Hans Grauert died in September of 2011. This a...</td>\n",
       "      <td>2013-03-27T19:23:57Z</td>\n",
       "      <td>2013-03-27T19:23:57Z</td>\n",
       "    </tr>\n",
       "    <tr>\n",
       "      <td>2</td>\n",
       "      <td>http://arxiv.org/abs/1407.3775v1</td>\n",
       "      <td>A New Proof of Stirling's Formula</td>\n",
       "      <td>Thorsten Neuschel</td>\n",
       "      <td>math.HO</td>\n",
       "      <td>A new simple proof of Stirling's formula via t...</td>\n",
       "      <td>2014-07-10T11:26:39Z</td>\n",
       "      <td>2014-07-10T11:26:39Z</td>\n",
       "    </tr>\n",
       "    <tr>\n",
       "      <td>3</td>\n",
       "      <td>http://arxiv.org/abs/math/0307381v3</td>\n",
       "      <td>On Dequantization of Fedosov's Deformation Qua...</td>\n",
       "      <td>Alexander V. Karabegov</td>\n",
       "      <td>math.QA</td>\n",
       "      <td>To each natural deformation quantization on a ...</td>\n",
       "      <td>2003-07-30T06:20:33Z</td>\n",
       "      <td>2003-09-20T01:29:18Z</td>\n",
       "    </tr>\n",
       "    <tr>\n",
       "      <td>4</td>\n",
       "      <td>http://arxiv.org/abs/1604.06794v1</td>\n",
       "      <td>Cyclic extensions are radical</td>\n",
       "      <td>Mariano Suárez-Álvarez</td>\n",
       "      <td>math.HO</td>\n",
       "      <td>We show that finite Galois extensions with cyc...</td>\n",
       "      <td>2016-04-21T22:24:54Z</td>\n",
       "      <td>2016-04-21T22:24:54Z</td>\n",
       "    </tr>\n",
       "    <tr>\n",
       "      <td>5</td>\n",
       "      <td>http://arxiv.org/abs/1712.09576v2</td>\n",
       "      <td>The Second Main Theorem in the hyperbolic case</td>\n",
       "      <td>Min Ru;Nessim Sibony</td>\n",
       "      <td>math.CV</td>\n",
       "      <td>We develop Nevanlinna's theory for a class of ...</td>\n",
       "      <td>2017-12-27T13:17:08Z</td>\n",
       "      <td>2019-01-03T07:51:11Z</td>\n",
       "    </tr>\n",
       "  </tbody>\n",
       "</table>\n",
       "</div>"
      ],
      "text/plain": [
       "                                    id  \\\n",
       "0    http://arxiv.org/abs/2001.05867v1   \n",
       "1     http://arxiv.org/abs/1303.6933v1   \n",
       "2     http://arxiv.org/abs/1407.3775v1   \n",
       "3  http://arxiv.org/abs/math/0307381v3   \n",
       "4    http://arxiv.org/abs/1604.06794v1   \n",
       "5    http://arxiv.org/abs/1712.09576v2   \n",
       "\n",
       "                                               title                 authors  \\\n",
       "0              $σ$-Lacunary actions of Polish groups              Jan Grebik   \n",
       "1                           Hans Grauert (1930-2011)        Alan Huckleberry   \n",
       "2                  A New Proof of Stirling's Formula       Thorsten Neuschel   \n",
       "3  On Dequantization of Fedosov's Deformation Qua...  Alexander V. Karabegov   \n",
       "4                      Cyclic extensions are radical  Mariano Suárez-Álvarez   \n",
       "5     The Second Main Theorem in the hyperbolic case    Min Ru;Nessim Sibony   \n",
       "\n",
       "  arxiv_primary_category                                            summary  \\\n",
       "0                math.LO  We show that every essentially countable orbit...   \n",
       "1                math.HO  Hans Grauert died in September of 2011. This a...   \n",
       "2                math.HO  A new simple proof of Stirling's formula via t...   \n",
       "3                math.QA  To each natural deformation quantization on a ...   \n",
       "4                math.HO  We show that finite Galois extensions with cyc...   \n",
       "5                math.CV  We develop Nevanlinna's theory for a class of ...   \n",
       "\n",
       "              published               updated  \n",
       "0  2020-01-16T15:09:02Z  2020-01-16T15:09:02Z  \n",
       "1  2013-03-27T19:23:57Z  2013-03-27T19:23:57Z  \n",
       "2  2014-07-10T11:26:39Z  2014-07-10T11:26:39Z  \n",
       "3  2003-07-30T06:20:33Z  2003-09-20T01:29:18Z  \n",
       "4  2016-04-21T22:24:54Z  2016-04-21T22:24:54Z  \n",
       "5  2017-12-27T13:17:08Z  2019-01-03T07:51:11Z  "
      ]
     },
     "execution_count": 4,
     "metadata": {},
     "output_type": "execute_result"
    }
   ],
   "source": [
    "# 5 first lines of corpus\n",
    "data.loc[:5, :]"
   ]
  },
  {
   "cell_type": "code",
   "execution_count": 5,
   "metadata": {},
   "outputs": [
    {
     "data": {
      "text/plain": [
       "(41062, 7)"
      ]
     },
     "execution_count": 5,
     "metadata": {},
     "output_type": "execute_result"
    }
   ],
   "source": [
    "# Number of rows and columns\n",
    "data.shape"
   ]
  },
  {
   "cell_type": "code",
   "execution_count": 6,
   "metadata": {},
   "outputs": [
    {
     "data": {
      "text/plain": [
       "159"
      ]
     },
     "execution_count": 6,
     "metadata": {},
     "output_type": "execute_result"
    }
   ],
   "source": [
    "# Total number of different topics\n",
    "topics = data[\"arxiv_primary_category\"].value_counts()\n",
    "len(topics)"
   ]
  },
  {
   "cell_type": "code",
   "execution_count": 7,
   "metadata": {},
   "outputs": [
    {
     "data": {
      "text/plain": [
       "stat.ME        2747\n",
       "astro-ph.IM    1904\n",
       "stat.CO        1651\n",
       "stat.AP        1526\n",
       "math.ST        1334\n",
       "astro-ph.EP    1245\n",
       "q-bio.PE       1007\n",
       "q-fin.GN        942\n",
       "q-bio.GN        940\n",
       "stat.ML         939\n",
       "Name: arxiv_primary_category, dtype: int64"
      ]
     },
     "execution_count": 7,
     "metadata": {},
     "output_type": "execute_result"
    }
   ],
   "source": [
    "# 10 first topiccs\n",
    "topics[:10]"
   ]
  },
  {
   "cell_type": "code",
   "execution_count": 8,
   "metadata": {},
   "outputs": [
    {
     "data": {
      "text/plain": [
       "'We show that every essentially countable orbit equivalence relation induced by a continuous action of a Polish group on a Polish space is $\\\\sigma$-lacunary. In combination with [Invent. Math.201 (1), 309-383, 2015] we obtain a straightforward proof of the result from [Adv. Math.307, 312-343,2017] that every essentially countable equivalence relation that is induced by an action of abelian non-archimedean Polish group is essentially hyperfinite.'"
      ]
     },
     "execution_count": 8,
     "metadata": {},
     "output_type": "execute_result"
    }
   ],
   "source": [
    "# What is in a resume\n",
    "data.loc[0, \"summary\"]"
   ]
  },
  {
   "cell_type": "code",
   "execution_count": 12,
   "metadata": {},
   "outputs": [
    {
     "data": {
      "text/plain": [
       "<matplotlib.axes._subplots.AxesSubplot at 0x11ead56d0>"
      ]
     },
     "execution_count": 12,
     "metadata": {},
     "output_type": "execute_result"
    },
    {
     "data": {
      "image/png": "[encoded data removed]",
      "text/plain": [
       "<Figure size 432x288 with 1 Axes>"
      ]
     },
     "metadata": {
      "needs_background": "light"
     },
     "output_type": "display_data"
    }
   ],
   "source": [
    "\n",
    "\n",
    "# View the number of articles per topic\n",
    "\n",
    "\n",
    "data[\"arxiv_primary_category\"].hist(xrot=90)"
   ]
  },
  {
   "cell_type": "code",
   "execution_count": 9,
   "metadata": {},
   "outputs": [],
   "source": [
    "papers_by_category = data[\"arxiv_primary_category\"].value_counts()"
   ]
  },
  {
   "cell_type": "code",
   "execution_count": 10,
   "metadata": {},
   "outputs": [
    {
     "data": {
      "text/plain": [
       "159"
      ]
     },
     "execution_count": 10,
     "metadata": {},
     "output_type": "execute_result"
    }
   ],
   "source": [
    "len(papers_by_category)"
   ]
  },
  {
   "cell_type": "code",
   "execution_count": 11,
   "metadata": {},
   "outputs": [
    {
     "data": {
      "text/plain": [
       "[<matplotlib.lines.Line2D at 0x7fdb242d5e10>]"
      ]
     },
     "execution_count": 11,
     "metadata": {},
     "output_type": "execute_result"
    },
    {
     "data": {
      "image/png": "[encoded data removed]",
      "text/plain": [
       "<Figure size 432x288 with 1 Axes>"
      ]
     },
     "metadata": {
      "needs_background": "light"
     },
     "output_type": "display_data"
    }
   ],
   "source": [
    "\n",
    "plt.plot(papers_by_category)"
   ]
  },
  {
   "cell_type": "code",
   "execution_count": 13,
   "metadata": {},
   "outputs": [
    {
     "data": {
      "text/plain": [
       "[<matplotlib.lines.Line2D at 0x7fdb1328ac50>]"
      ]
     },
     "execution_count": 13,
     "metadata": {},
     "output_type": "execute_result"
    },
    {
     "data": {
      "image/png": "[encoded data removed]",
      "text/plain": [
       "<Figure size 432x288 with 1 Axes>"
      ]
     },
     "metadata": {
      "needs_background": "light"
     },
     "output_type": "display_data"
    }
   ],
   "source": [
    "plt.plot(papers_by_category[papers_by_category>500])"
   ]
  },
  {
   "cell_type": "code",
   "execution_count": 14,
   "metadata": {},
   "outputs": [
    {
     "data": {
      "text/html": [
       "<div>\n",
       "<style scoped>\n",
       "    .dataframe tbody tr th:only-of-type {\n",
       "        vertical-align: middle;\n",
       "    }\n",
       "\n",
       "    .dataframe tbody tr th {\n",
       "        vertical-align: top;\n",
       "    }\n",
       "\n",
       "    .dataframe thead th {\n",
       "        text-align: right;\n",
       "    }\n",
       "</style>\n",
       "<table border=\"1\" class=\"dataframe\">\n",
       "  <thead>\n",
       "    <tr style=\"text-align: right;\">\n",
       "      <th></th>\n",
       "      <th>id</th>\n",
       "      <th>title</th>\n",
       "      <th>authors</th>\n",
       "      <th>arxiv_primary_category</th>\n",
       "      <th>summary</th>\n",
       "      <th>published</th>\n",
       "      <th>updated</th>\n",
       "    </tr>\n",
       "  </thead>\n",
       "  <tbody>\n",
       "    <tr>\n",
       "      <td>0</td>\n",
       "      <td>http://arxiv.org/abs/2001.05867v1</td>\n",
       "      <td>$σ$-Lacunary actions of Polish groups</td>\n",
       "      <td>Jan Grebik</td>\n",
       "      <td>math.LO</td>\n",
       "      <td>We show that every essentially countable orbit...</td>\n",
       "      <td>2020-01-16T15:09:02Z</td>\n",
       "      <td>2020-01-16T15:09:02Z</td>\n",
       "    </tr>\n",
       "  </tbody>\n",
       "</table>\n",
       "</div>"
      ],
      "text/plain": [
       "                                  id                                  title  \\\n",
       "0  http://arxiv.org/abs/2001.05867v1  $σ$-Lacunary actions of Polish groups   \n",
       "\n",
       "      authors arxiv_primary_category  \\\n",
       "0  Jan Grebik                math.LO   \n",
       "\n",
       "                                             summary             published  \\\n",
       "0  We show that every essentially countable orbit...  2020-01-16T15:09:02Z   \n",
       "\n",
       "                updated  \n",
       "0  2020-01-16T15:09:02Z  "
      ]
     },
     "execution_count": 14,
     "metadata": {},
     "output_type": "execute_result"
    }
   ],
   "source": [
    "data.loc[:0, :]"
   ]
  },
  {
   "cell_type": "code",
   "execution_count": 60,
   "metadata": {},
   "outputs": [
    {
     "data": {
      "text/html": [
       "<div>\n",
       "<style scoped>\n",
       "    .dataframe tbody tr th:only-of-type {\n",
       "        vertical-align: middle;\n",
       "    }\n",
       "\n",
       "    .dataframe tbody tr th {\n",
       "        vertical-align: top;\n",
       "    }\n",
       "\n",
       "    .dataframe thead th {\n",
       "        text-align: right;\n",
       "    }\n",
       "</style>\n",
       "<table border=\"1\" class=\"dataframe\">\n",
       "  <thead>\n",
       "    <tr style=\"text-align: right;\">\n",
       "      <th></th>\n",
       "      <th>arxiv_primary_category</th>\n",
       "      <th>summary</th>\n",
       "    </tr>\n",
       "  </thead>\n",
       "  <tbody>\n",
       "    <tr>\n",
       "      <td>0</td>\n",
       "      <td>math.LO</td>\n",
       "      <td>We show that every essentially countable orbit...</td>\n",
       "    </tr>\n",
       "    <tr>\n",
       "      <td>1</td>\n",
       "      <td>math.HO</td>\n",
       "      <td>Hans Grauert died in September of 2011. This a...</td>\n",
       "    </tr>\n",
       "    <tr>\n",
       "      <td>2</td>\n",
       "      <td>math.HO</td>\n",
       "      <td>A new simple proof of Stirling's formula via t...</td>\n",
       "    </tr>\n",
       "    <tr>\n",
       "      <td>3</td>\n",
       "      <td>math.QA</td>\n",
       "      <td>To each natural deformation quantization on a ...</td>\n",
       "    </tr>\n",
       "    <tr>\n",
       "      <td>4</td>\n",
       "      <td>math.HO</td>\n",
       "      <td>We show that finite Galois extensions with cyc...</td>\n",
       "    </tr>\n",
       "    <tr>\n",
       "      <td>5</td>\n",
       "      <td>math.CV</td>\n",
       "      <td>We develop Nevanlinna's theory for a class of ...</td>\n",
       "    </tr>\n",
       "    <tr>\n",
       "      <td>6</td>\n",
       "      <td>math.GR</td>\n",
       "      <td>Let H, K be subgroups of G. We investigate the...</td>\n",
       "    </tr>\n",
       "    <tr>\n",
       "      <td>7</td>\n",
       "      <td>math.HO</td>\n",
       "      <td>We discuss the mathematician George Bruce Hals...</td>\n",
       "    </tr>\n",
       "    <tr>\n",
       "      <td>8</td>\n",
       "      <td>math.CV</td>\n",
       "      <td>A proof for the maximum modulus principle (in ...</td>\n",
       "    </tr>\n",
       "    <tr>\n",
       "      <td>9</td>\n",
       "      <td>math.CV</td>\n",
       "      <td>The aim of this paper is to give some applicat...</td>\n",
       "    </tr>\n",
       "    <tr>\n",
       "      <td>10</td>\n",
       "      <td>math.HO</td>\n",
       "      <td>Infinitesimals are natural products of the hum...</td>\n",
       "    </tr>\n",
       "  </tbody>\n",
       "</table>\n",
       "</div>"
      ],
      "text/plain": [
       "   arxiv_primary_category                                            summary\n",
       "0                 math.LO  We show that every essentially countable orbit...\n",
       "1                 math.HO  Hans Grauert died in September of 2011. This a...\n",
       "2                 math.HO  A new simple proof of Stirling's formula via t...\n",
       "3                 math.QA  To each natural deformation quantization on a ...\n",
       "4                 math.HO  We show that finite Galois extensions with cyc...\n",
       "5                 math.CV  We develop Nevanlinna's theory for a class of ...\n",
       "6                 math.GR  Let H, K be subgroups of G. We investigate the...\n",
       "7                 math.HO  We discuss the mathematician George Bruce Hals...\n",
       "8                 math.CV  A proof for the maximum modulus principle (in ...\n",
       "9                 math.CV  The aim of this paper is to give some applicat...\n",
       "10                math.HO  Infinitesimals are natural products of the hum..."
      ]
     },
     "execution_count": 60,
     "metadata": {},
     "output_type": "execute_result"
    }
   ],
   "source": [
    "data.loc[:10, [\"arxiv_primary_category\", \"summary\"]]"
   ]
  },
  {
   "cell_type": "code",
   "execution_count": 61,
   "metadata": {},
   "outputs": [
    {
     "data": {
      "text/plain": [
       "'We show that every essentially countable orbit equivalence relation induced by a continuous action of a Polish group on a Polish space is $\\\\sigma$-lacunary. In combination with [Invent. Math.201 (1), 309-383, 2015] we obtain a straightforward proof of the result from [Adv. Math.307, 312-343,2017] that every essentially countable equivalence relation that is induced by an action of abelian non-archimedean Polish group is essentially hyperfinite.'"
      ]
     },
     "execution_count": 61,
     "metadata": {},
     "output_type": "execute_result"
    }
   ],
   "source": [
    "data.loc[0, \"summary\"]"
   ]
  },
  {
   "cell_type": "code",
   "execution_count": null,
   "metadata": {},
   "outputs": [],
   "source": []
  }
 ],
 "metadata": {
  "kernelspec": {
   "display_name": "Python 3",
   "language": "python",
   "name": "python3"
  },
  "language_info": {
   "codemirror_mode": {
    "name": "ipython",
    "version": 3
   },
   "file_extension": ".py",
   "mimetype": "text/x-python",
   "name": "python",
   "nbconvert_exporter": "python",
   "pygments_lexer": "ipython3",
   "version": "3.7.4"
  }
 },
 "nbformat": 4,
 "nbformat_minor": 2
}
