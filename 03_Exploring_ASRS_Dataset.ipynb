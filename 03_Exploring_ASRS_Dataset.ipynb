{
 "cells": [
  {
   "cell_type": "markdown",
   "metadata": {},
   "source": [
    "Découverte du corpus ASRS"
   ]
  },
  {
   "cell_type": "code",
   "execution_count": 2,
   "metadata": {},
   "outputs": [],
   "source": [
    "import matplotlib.pyplot as plt\n",
    "import pandas as pd"
   ]
  },
  {
   "cell_type": "code",
   "execution_count": 3,
   "metadata": {},
   "outputs": [],
   "source": [
    "data = pd.read_csv(\"./ASRS_data.csv\", sep=\"|\")"
   ]
  },
  {
   "cell_type": "code",
   "execution_count": 4,
   "metadata": {},
   "outputs": [
    {
     "data": {
      "text/html": [
       "<div>\n",
       "<style scoped>\n",
       "    .dataframe tbody tr th:only-of-type {\n",
       "        vertical-align: middle;\n",
       "    }\n",
       "\n",
       "    .dataframe tbody tr th {\n",
       "        vertical-align: top;\n",
       "    }\n",
       "\n",
       "    .dataframe thead th {\n",
       "        text-align: right;\n",
       "    }\n",
       "</style>\n",
       "<table border=\"1\" class=\"dataframe\">\n",
       "  <thead>\n",
       "    <tr style=\"text-align: right;\">\n",
       "      <th></th>\n",
       "      <th>ITEM_ID</th>\n",
       "      <th>Synopsis</th>\n",
       "      <th>Narrative</th>\n",
       "    </tr>\n",
       "  </thead>\n",
       "  <tbody>\n",
       "    <tr>\n",
       "      <td>0</td>\n",
       "      <td>75085</td>\n",
       "      <td>ENTERED THE TCA WITHOUT CLRNC. OPERATION BANNE...</td>\n",
       "      <td>APPROX 5 MI NW OF THE MISSION BAY VOR, WHILE A...</td>\n",
       "    </tr>\n",
       "    <tr>\n",
       "      <td>1</td>\n",
       "      <td>79866</td>\n",
       "      <td>AFTER LEAVING FL320 MLG INSTRUCTED TO DES TO F...</td>\n",
       "      <td>WE WERE IN OUR CLB FROM CMH TO DFW, WITH A CLR...</td>\n",
       "    </tr>\n",
       "    <tr>\n",
       "      <td>2</td>\n",
       "      <td>79912</td>\n",
       "      <td>SMA PENETRATED TCA ON CLIMB OUT.</td>\n",
       "      <td>THIS WAS MY FIRST DEP FROM BFI ON 31L. MY TURN...</td>\n",
       "    </tr>\n",
       "    <tr>\n",
       "      <td>3</td>\n",
       "      <td>79965</td>\n",
       "      <td>SMT PLT DESCENDED TO ARPT UNDERLYING TCA, ACCU...</td>\n",
       "      <td>A VFR FLT, BEING CONDUCTED UNDER FAR PART 91, ...</td>\n",
       "    </tr>\n",
       "    <tr>\n",
       "      <td>4</td>\n",
       "      <td>79997</td>\n",
       "      <td>ATCT LCL CTLR MIXES UP CALL SIGNS.</td>\n",
       "      <td>SITUATION BEGAN ON A ROUTINE VFR PLEASURE FLT ...</td>\n",
       "    </tr>\n",
       "    <tr>\n",
       "      <td>5</td>\n",
       "      <td>79998</td>\n",
       "      <td>FMS STEERED ACFT SOME 20-25 MI OFF COURSE WITH...</td>\n",
       "      <td>CLRD DIRECT PVT VOR AFTER TKOF BOS. USING R NA...</td>\n",
       "    </tr>\n",
       "  </tbody>\n",
       "</table>\n",
       "</div>"
      ],
      "text/plain": [
       "   ITEM_ID                                           Synopsis  \\\n",
       "0    75085  ENTERED THE TCA WITHOUT CLRNC. OPERATION BANNE...   \n",
       "1    79866  AFTER LEAVING FL320 MLG INSTRUCTED TO DES TO F...   \n",
       "2    79912                   SMA PENETRATED TCA ON CLIMB OUT.   \n",
       "3    79965  SMT PLT DESCENDED TO ARPT UNDERLYING TCA, ACCU...   \n",
       "4    79997                 ATCT LCL CTLR MIXES UP CALL SIGNS.   \n",
       "5    79998  FMS STEERED ACFT SOME 20-25 MI OFF COURSE WITH...   \n",
       "\n",
       "                                           Narrative  \n",
       "0  APPROX 5 MI NW OF THE MISSION BAY VOR, WHILE A...  \n",
       "1  WE WERE IN OUR CLB FROM CMH TO DFW, WITH A CLR...  \n",
       "2  THIS WAS MY FIRST DEP FROM BFI ON 31L. MY TURN...  \n",
       "3  A VFR FLT, BEING CONDUCTED UNDER FAR PART 91, ...  \n",
       "4  SITUATION BEGAN ON A ROUTINE VFR PLEASURE FLT ...  \n",
       "5  CLRD DIRECT PVT VOR AFTER TKOF BOS. USING R NA...  "
      ]
     },
     "execution_count": 4,
     "metadata": {},
     "output_type": "execute_result"
    }
   ],
   "source": [
    "#Affichage des 5 premières lignes du corpus\n",
    "data.loc[:5, :]"
   ]
  },
  {
   "cell_type": "code",
   "execution_count": 5,
   "metadata": {},
   "outputs": [
    {
     "data": {
      "text/plain": [
       "(174569, 3)"
      ]
     },
     "execution_count": 5,
     "metadata": {},
     "output_type": "execute_result"
    }
   ],
   "source": [
    "#Combien y a t-il de lignes (= de doucments dans le corpus)?\n",
    "data.shape"
   ]
  },
  {
   "cell_type": "code",
   "execution_count": 7,
   "metadata": {},
   "outputs": [
    {
     "data": {
      "text/plain": [
       "'SMT PLT DESCENDED TO ARPT UNDERLYING TCA, ACCUSED OF PENETRATING TCA.'"
      ]
     },
     "execution_count": 7,
     "metadata": {},
     "output_type": "execute_result"
    }
   ],
   "source": [
    "#Affichage de la section Synopsis du 3e document\n",
    "data.loc[3, \"Synopsis\"]"
   ]
  },
  {
   "cell_type": "code",
   "execution_count": 8,
   "metadata": {},
   "outputs": [
    {
     "data": {
      "text/plain": [
       "\"A VFR FLT, BEING CONDUCTED UNDER FAR PART 91, WAS APCHING DENVER CENTENNIAL ARPT (APA) FROM THE SW. ATIS INDICATED VISUAL APCH TO RWY 35L/R IN USE. DSCNT WAS COMMENCED FROM 17500' MSL, 50 SW OF APA, PLANNING A FINAL APCH ALT OF 7500 MSL WITH A TARGET ALT OF 8000 MSL 20 SW OF DEN. AT APPROX 13000' MSL, 30 SW OF DEN, HDG 060 DEG MAGNETIC, IAS OF 200 KTS, SEVERE TURB WAS ENCOUNTERED (SIGMET FOR SUCH WAS CURRENT). THE ACFT WAS SLOWED TO DESIGN MANEUVERING SPD (155 KTS), TEMPORARILY STOPPING DSCNT. TO AVOID TCA CONFLICT A 30 DEG RIGHT TURN (TO 090 DEG MAGNETIC) WAS MADE. DME INFO FROM DEN VORTAC INDICATED POSITION OUTSIDE TCA. SEVERE TURB AND COCKPIT WORKLOAD PREVENTED RETUNING NAV RECEIVER TO 110.3 MHZ (DEN 26L ILS AND NAV FAC UPON WHICH TCA IS PREDICATED, APPROX 1 1/2 NM SSW OF DEN VORTAC), HOWEVER, VISUAL INFO INDICATED POSITION TO CONTINUE TO BE OUTSIDE OF TCA UNTIL 10000' MSL REACHED WHEN HDG 080 DEG MAGNETIC ASSUMED FOR 'WIDE LEFT BASE, OUTSIDE POWER LINES TO 35R' AS ADVISED BY APA TWR. (THESE POWER LINES ARE NOTED TO BE AT 16 DME TCA ARC ON DEN TCA CHART.) AT 8500' MSL, XING I25 (ROAD) AND S OF POWER LINES, CONTACT WITH APA TWR WAS MADE AS REQUESTED AND TURN TO FINAL COMMENCED. THE ACFT WAS SLOWED TO VLE SPD (140 KT) SLOWING DSCNT UNTIL TURN TO FINAL COMPLETED. VASI INDICATED PINK/WHITE, NECESSITATING SLIGHTLY INCREASED DSCNT RATE, UNTIL RED/WHITE OBTAINED AND THE LNDG COMPLETED. REQUEST WAS RECEIVED FROM APA TWR TO CONTACT DEN TRACON BY TELEPHONE. REQUEST COMPLIED WITH AND SUPVR OF DEN APCH ADVISED THAT AN ACFT APPROX OUR APCH PROFILE ENCROACHED DEN TCA IN 2 AREAS (SW CORNER AND S OF APA). DEN WAS ADVISED THAT OUR ACFT WAS CLEAR OF TCA AT ALL TIMES TO THE BEST OF PIC'S KNOWLEDGE, EVEN GIVEN LIMITATIONS PRESENTED BY SEVERE TURB AND INCREASED FLT DECK WORKLOAD. TWO POINTS OF SAFETY ARE NOTED BY THIS PIC: 1) DEN TCA WOULD BE BETTER PREDICATED ON DEN VORTAC TO AVOID NECESSITY OF CONTINUOUS RETUNING OF NAV EQUIPMENT AT TIMES WHEN THE FLT DECK WORKLOAD IS HIGHEST. LESS SOPHISTICATED ACFT AND THOSE NOT UTILIZING THE DEN ILS ARE THE MOST LIKELY TO REQUIRE TCA AVOIDANCE. 2) IN THIS PIC'S JUDGEMENT, TCA AVOIDANCE (OR APCH CTL CONTACT) CAN BE CONSIDERED SECONDARY TO ACFT CTL AND PAX SAFETY IN CONDITIONS OF SEVERE TURB, THOUGH OBVIOUSLY SUCH CANNOT BE COMPLETELY IGNORED.\""
      ]
     },
     "execution_count": 8,
     "metadata": {},
     "output_type": "execute_result"
    }
   ],
   "source": [
    "#Affichage de la section Narrative du 3e document\n",
    "data.loc[3, \"Narrative\"]"
   ]
  },
  {
   "cell_type": "code",
   "execution_count": null,
   "metadata": {},
   "outputs": [],
   "source": [
    "\n"
   ]
  },
  {
   "cell_type": "code",
   "execution_count": null,
   "metadata": {},
   "outputs": [],
   "source": []
  }
 ],
 "metadata": {
  "kernelspec": {
   "display_name": "Python 3",
   "language": "python",
   "name": "python3"
  },
  "language_info": {
   "codemirror_mode": {
    "name": "ipython",
    "version": 3
   },
   "file_extension": ".py",
   "mimetype": "text/x-python",
   "name": "python",
   "nbconvert_exporter": "python",
   "pygments_lexer": "ipython3",
   "version": "3.7.4"
  }
 },
 "nbformat": 4,
 "nbformat_minor": 2
}
