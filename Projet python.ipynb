{
 "cells": [
  {
   "cell_type": "code",
   "execution_count": 8,
   "metadata": {},
   "outputs": [],
   "source": [
    "import numpy as np\n",
    "import math\n",
    "import pandas as pd\n",
    "import re"
   ]
  },
  {
   "cell_type": "code",
   "execution_count": 9,
   "metadata": {},
   "outputs": [],
   "source": [
    "data = pd.read_csv(\"./arxiv_articles_simplified.csv\", sep=\"|\")"
   ]
  },
  {
   "cell_type": "code",
   "execution_count": 10,
   "metadata": {},
   "outputs": [],
   "source": [
    "D = data[\"summary\"]"
   ]
  },
  {
   "cell_type": "code",
   "execution_count": 11,
   "metadata": {},
   "outputs": [
    {
     "name": "stdout",
     "output_type": "stream",
     "text": [
      "0.5\n"
     ]
    }
   ],
   "source": [
    "\n",
    "def nombre(mot, phrase):\n",
    "    val=0\n",
    "    phrase1=phrase.split(\" \")    \n",
    "    for X in range(len(phrase1)):\n",
    "        if mot == phrase1[X]:\n",
    "            val= val + 1\n",
    "            \n",
    "    return val\n",
    "\n",
    "def max(phrase):\n",
    "    phrase1=phrase.split(\" \")\n",
    "    maxi2 = None    \n",
    "    \n",
    "    for X in range(len(phrase1)):\n",
    "        \n",
    "        if maxi2 is None or nombre(phrase1[X], phrase) > maxi2:\n",
    "            \n",
    "            maxi2 = nombre(phrase1[X],phrase)\n",
    "            \n",
    "    return maxi2\n",
    "\n",
    "def Tf(mot, phrase):\n",
    "    phrase1=phrase.split(\" \")\n",
    "    return((nombre(mot, phrase))/max(phrase))\n",
    "\n",
    "print(Tf(\"of\", D[1]))\n",
    "\n",
    "    "
   ]
  },
  {
   "cell_type": "code",
   "execution_count": 12,
   "metadata": {},
   "outputs": [],
   "source": [
    "def IDF(A,D):\n",
    "    compteur3 = 0\n",
    "    for X in range(D.size):\n",
    "        if A in D[X]:\n",
    "            compteur3=compteur3 + 1\n",
    "                      \n",
    "    return math.log((D.size)/(1 + compteur3))"
   ]
  },
  {
   "cell_type": "code",
   "execution_count": 13,
   "metadata": {},
   "outputs": [
    {
     "name": "stdout",
     "output_type": "stream",
     "text": [
      "0.008875197723655585\n"
     ]
    }
   ],
   "source": [
    "D = data[\"summary\"]\n",
    "T = ['blue','bright', 'can', 'in', 'is', 'see', 'shining', 'sky', 'sun', 'the', 'today', 'we']\n",
    "\n",
    "def TfIDF(mot, D, phrase):\n",
    "    \n",
    "    return (Tf(mot,phrase)*IDF(mot, D))\n",
    "\n",
    "print(TfIDF(T[3], D, D[1]))"
   ]
  },
  {
   "cell_type": "code",
   "execution_count": 14,
   "metadata": {},
   "outputs": [
    {
     "name": "stdout",
     "output_type": "stream",
     "text": [
      "bright\n"
     ]
    }
   ],
   "source": [
    "D = data[\"summary\"]\n",
    "T = ['blue','bright', 'can', 'in', 'is', 'see', 'shining', 'sky', 'sun', 'the', 'today', 'we']\n",
    "\n",
    "print(T[1])\n",
    "def Matrice(T,D):\n",
    "    tab = pd.DataFrame(columns = T, index=range(D.size))\n",
    "    \n",
    "    for X in range(len(T)):\n",
    "        for Y in range(D.size):\n",
    "            \n",
    "            tab[T[X]][D[Y]]=TfIDF(T[X], D, D[X])\n",
    "            \n",
    "    pd.DataFrame()    "
   ]
  },
  {
   "cell_type": "code",
   "execution_count": null,
   "metadata": {},
   "outputs": [],
   "source": []
  }
 ],
 "metadata": {
  "kernelspec": {
   "display_name": "Python 3",
   "language": "python",
   "name": "python3"
  },
  "language_info": {
   "codemirror_mode": {
    "name": "ipython",
    "version": 3
   },
   "file_extension": ".py",
   "mimetype": "text/x-python",
   "name": "python",
   "nbconvert_exporter": "python",
   "pygments_lexer": "ipython3",
   "version": "3.7.4"
  }
 },
 "nbformat": 4,
 "nbformat_minor": 2
}
